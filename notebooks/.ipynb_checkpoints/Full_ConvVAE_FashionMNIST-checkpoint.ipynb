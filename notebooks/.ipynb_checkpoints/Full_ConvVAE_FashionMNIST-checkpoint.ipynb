{
 "cells": [
  {
   "cell_type": "markdown",
   "id": "74897e7e",
   "metadata": {},
   "source": [
    "# ConvVAE on Fashion-MNIST\n",
    "This notebook trains a Convolutional Variational Autoencoder (ConvVAE) on the Fashion-MNIST dataset, plots training/test loss curves, shows reconstructions, and generates new samples."
   ]
  },
  {
   "cell_type": "code",
   "execution_count": null,
   "id": "de71dc73",
   "metadata": {},
   "outputs": [],
   "source": [
    "import os\n",
    "# Allow duplicate OpenMP libs\n",
    "os.environ[\"KMP_DUPLICATE_LIB_OK\"] = \"TRUE\"\n"
   ]
  },
  {
   "cell_type": "code",
   "execution_count": null,
   "id": "8b338505",
   "metadata": {},
   "outputs": [],
   "source": [
    "import torch\n",
    "import torch.nn as nn\n",
    "import torch.nn.functional as F\n",
    "from torch.utils.data import DataLoader\n",
    "from torchvision import datasets, transforms\n",
    "import matplotlib.pyplot as plt\n",
    "import numpy as np\n"
   ]
  },
  {
   "cell_type": "code",
   "execution_count": null,
   "id": "bd992c83",
   "metadata": {},
   "outputs": [],
   "source": [
    "class ConvVAE(nn.Module):\n",
    "    def __init__(self, latent_dim=32):\n",
    "        super().__init__()\n",
    "        # Encoder\n",
    "        self.enc1 = nn.Conv2d(1, 32, 4, 2, 1)\n",
    "        self.enc2 = nn.Conv2d(32, 64, 4, 2, 1)\n",
    "        self.enc3 = nn.Conv2d(64, 128, 4, 2, 1)\n",
    "        self.fc_mu  = nn.Linear(128*3*3, latent_dim)\n",
    "        self.fc_log = nn.Linear(128*3*3, latent_dim)\n",
    "        # Decoder\n",
    "        self.fc_dec = nn.Linear(latent_dim, 128*3*3)\n",
    "        self.dec1 = nn.ConvTranspose2d(128, 64, 4, 2, 1, output_padding=1)\n",
    "        self.dec2 = nn.ConvTranspose2d(64, 32, 4, 2, 1)\n",
    "        self.dec3 = nn.ConvTranspose2d(32, 1, 4, 2, 1)\n",
    "\n",
    "    def encode(self, x):\n",
    "        h = F.relu(self.enc1(x))\n",
    "        h = F.relu(self.enc2(h))\n",
    "        h = F.relu(self.enc3(h))\n",
    "        h = h.view(h.size(0), -1)\n",
    "        return self.fc_mu(h), self.fc_log(h)\n",
    "\n",
    "    def reparameterize(self, mu, logvar):\n",
    "        std = torch.exp(0.5 * logvar)\n",
    "        eps = torch.randn_like(std)\n",
    "        return mu + eps * std\n",
    "\n",
    "    def decode(self, z):\n",
    "        h = F.relu(self.fc_dec(z))\n",
    "        h = h.view(-1, 128, 3, 3)\n",
    "        h = F.relu(self.dec1(h))\n",
    "        h = F.relu(self.dec2(h))\n",
    "        return torch.sigmoid(self.dec3(h))\n",
    "\n",
    "    def forward(self, x):\n",
    "        mu, logvar = self.encode(x)\n",
    "        z = self.reparameterize(mu, logvar)\n",
    "        return self.decode(z), mu, logvar\n"
   ]
  },
  {
   "cell_type": "code",
   "execution_count": null,
   "id": "dcbe2eb6",
   "metadata": {},
   "outputs": [],
   "source": [
    "# Loss function\n",
    "def loss_function(recon_x, x, mu, logvar):\n",
    "    BCE = F.binary_cross_entropy(recon_x, x, reduction=\"sum\")\n",
    "    KLD = -0.5 * torch.sum(1 + logvar - mu.pow(2) - logvar.exp())\n",
    "    return BCE + KLD\n"
   ]
  },
  {
   "cell_type": "code",
   "execution_count": null,
   "id": "e6b44489",
   "metadata": {},
   "outputs": [],
   "source": [
    "# Data loading\n",
    "transform = transforms.Compose([transforms.ToTensor()])\n",
    "train_ds = datasets.FashionMNIST(\"data/fashion-mnist\", train=True, download=True, transform=transform)\n",
    "test_ds  = datasets.FashionMNIST(\"data/fashion-mnist\", train=False, download=True, transform=transform)\n",
    "train_loader = DataLoader(train_ds, batch_size=128, shuffle=True)\n",
    "test_loader  = DataLoader(test_ds, batch_size=128, shuffle=False)\n"
   ]
  },
  {
   "cell_type": "code",
   "execution_count": null,
   "id": "eb2dea15",
   "metadata": {},
   "outputs": [],
   "source": [
    "# Training setup\n",
    "device = torch.device(\"cuda\" if torch.cuda.is_available() else \"cpu\")\n",
    "model = ConvVAE(latent_dim=32).to(device)\n",
    "optimizer = torch.optim.Adam(model.parameters(), lr=5e-4)\n",
    "epochs = 20\n",
    "train_losses = []\n",
    "test_losses = []\n"
   ]
  },
  {
   "cell_type": "code",
   "execution_count": null,
   "id": "14d808b8",
   "metadata": {},
   "outputs": [],
   "source": [
    "# Training loop\n",
    "for epoch in range(1, epochs+1):\n",
    "    model.train()\n",
    "    train_loss = 0\n",
    "    for data, _ in train_loader:\n",
    "        data = data.to(device)\n",
    "        optimizer.zero_grad()\n",
    "        recon, mu, logvar = model(data)\n",
    "        loss = loss_function(recon, data, mu, logvar)\n",
    "        loss.backward()\n",
    "        optimizer.step()\n",
    "        train_loss += loss.item()\n",
    "    train_losses.append(train_loss / len(train_loader.dataset))\n",
    "    model.eval()\n",
    "    test_loss = 0\n",
    "    with torch.no_grad():\n",
    "        for data, _ in test_loader:\n",
    "            data = data.to(device)\n",
    "            recon, mu, logvar = model(data)\n",
    "            test_loss += loss_function(recon, data, mu, logvar).item()\n",
    "    test_losses.append(test_loss / len(test_loader.dataset))\n",
    "    print(f\"Epoch {epoch}: Train loss {train_losses[-1]:.2f}, Test loss {test_losses[-1]:.2f}\")\n"
   ]
  },
  {
   "cell_type": "code",
   "execution_count": null,
   "id": "f0ead424",
   "metadata": {},
   "outputs": [],
   "source": [
    "# Plot losses\n",
    "import matplotlib.pyplot as plt\n",
    "plt.plot(train_losses, label=\"Train\")\n",
    "plt.plot(test_losses, label=\"Test\")\n",
    "plt.xlabel(\"Epoch\")\n",
    "plt.ylabel(\"Loss\")\n",
    "plt.legend()\n",
    "plt.show()\n"
   ]
  },
  {
   "cell_type": "code",
   "execution_count": null,
   "id": "f5ae6689",
   "metadata": {},
   "outputs": [],
   "source": [
    "# Visualize reconstructions\n",
    "model.eval()\n",
    "import matplotlib.pyplot as plt\n",
    "data, _ = next(iter(test_loader))\n",
    "data = data.to(device)\n",
    "with torch.no_grad(): recon, _, _ = model(data)\n",
    "orig = data[:8]\n",
    "recon = recon[:8]\n",
    "fig, axes = plt.subplots(2, 8, figsize=(12, 3))\n",
    "for i in range(8):\n",
    "    axes[0, i].imshow(orig[i].cpu().squeeze(), cmap=\"gray\"); axes[0, i].axis(\"off\")\n",
    "    axes[1, i].imshow(recon[i].cpu().squeeze(), cmap=\"gray\"); axes[1, i].axis(\"off\")\n",
    "plt.show()\n"
   ]
  },
  {
   "cell_type": "code",
   "execution_count": null,
   "id": "a515b487",
   "metadata": {},
   "outputs": [],
   "source": [
    "# Generate new samples\n",
    "model.eval()\n",
    "import math\n",
    "z = torch.randn(16, 32).to(device)\n",
    "with torch.no_grad(): samples = model.decode(z)\n",
    "grid = torch.cat([samples[i].cpu().unsqueeze(0) for i in range(16)], dim=0)\n",
    "from torchvision.utils import make_grid\n",
    "import matplotlib.pyplot as plt\n",
    "grid_img = make_grid(grid, nrow=4)\n",
    "plt.figure(figsize=(6,6))\n",
    "plt.imshow(grid_img.permute(1,2,0).squeeze(), cmap=\"gray\")\n",
    "plt.axis(\"off\")\n",
    "plt.show()\n"
   ]
  }
 ],
 "metadata": {},
 "nbformat": 4,
 "nbformat_minor": 5
}
